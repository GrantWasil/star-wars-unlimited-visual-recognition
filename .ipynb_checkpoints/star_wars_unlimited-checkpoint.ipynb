{
 "cells": [
  {
   "cell_type": "markdown",
   "id": "dbfdf022-d0dd-418d-b3e8-e23ba21fad25",
   "metadata": {},
   "source": [
    "Quick fix to ensure this works on my macbook"
   ]
  },
  {
   "cell_type": "code",
   "execution_count": null,
   "id": "8cd61d9f-10b8-4301-aa4e-9573b58a340a",
   "metadata": {},
   "outputs": [],
   "source": [
    "import os\n",
    "os.environ['PYTORCH_ENABLE_MPS_FALLBACK'] = '1'"
   ]
  },
  {
   "cell_type": "code",
   "execution_count": null,
   "id": "42532842-c536-4894-8294-51a01da66990",
   "metadata": {},
   "outputs": [],
   "source": [
    "from fastai.data.all import *\n",
    "from fastai.vision.all import *"
   ]
  },
  {
   "cell_type": "code",
   "execution_count": null,
   "id": "adfb15ed-0dac-4c9a-9237-f1774bdd0210",
   "metadata": {},
   "outputs": [],
   "source": [
    "df = pd.read_csv('train.csv')\n",
    "print(df.head())"
   ]
  },
  {
   "cell_type": "code",
   "execution_count": null,
   "id": "b4b5de44-59e1-4461-bec5-f45f0ccd2574",
   "metadata": {},
   "outputs": [],
   "source": [
    "cards = DataBlock(blocks=(ImageBlock, MultiCategoryBlock),\n",
    "                   splitter=RandomSplitter(valid_pct=0.8, seed=19),\n",
    "                   get_x=lambda o:''+o.fname,\n",
    "                   get_y=lambda o:o.labels.split(),\n",
    "                   item_tfms=Resize(224),\n",
    "                   batch_tfms=aug_transforms())\n",
    "\n",
    "dls = cards.dataloaders(df)\n",
    "dls.show_batch()"
   ]
  },
  {
   "cell_type": "code",
   "execution_count": null,
   "id": "b80f52f8-b28e-40e7-bc3e-e9a0aaa4029a",
   "metadata": {},
   "outputs": [],
   "source": [
    "dls = cards.dataloaders(df)\n",
    "dls.show_batch()"
   ]
  },
  {
   "cell_type": "code",
   "execution_count": null,
   "id": "8f9b257d-e14b-47db-a2a5-01ed171d07f8",
   "metadata": {},
   "outputs": [],
   "source": [
    "learn = vision_learner(dls, resnet18, metrics=error_rate)\n",
    "learn.fine_tune(4)"
   ]
  },
  {
   "cell_type": "code",
   "execution_count": null,
   "id": "c0a96a7a-7e87-466e-82c5-1ef4c3d8d3ee",
   "metadata": {},
   "outputs": [],
   "source": [
    "learn.lr_find()"
   ]
  },
  {
   "cell_type": "code",
   "execution_count": null,
   "id": "7dc0231d-f33c-48e2-b287-40c35c6b018a",
   "metadata": {},
   "outputs": [],
   "source": [
    "learn.fine_tune(2, 3e-2)"
   ]
  },
  {
   "cell_type": "code",
   "execution_count": null,
   "id": "256c1473-5852-4ffa-92fb-3be9c6105685",
   "metadata": {},
   "outputs": [],
   "source": []
  },
  {
   "cell_type": "code",
   "execution_count": null,
   "id": "3833e94c-b12b-4b28-a5da-5ea003e9c02c",
   "metadata": {},
   "outputs": [],
   "source": []
  }
 ],
 "metadata": {
  "kernelspec": {
   "display_name": "Python 3 (ipykernel)",
   "language": "python",
   "name": "python3"
  },
  "language_info": {
   "codemirror_mode": {
    "name": "ipython",
    "version": 3
   },
   "file_extension": ".py",
   "mimetype": "text/x-python",
   "name": "python",
   "nbconvert_exporter": "python",
   "pygments_lexer": "ipython3",
   "version": "3.8.18"
  }
 },
 "nbformat": 4,
 "nbformat_minor": 5
}
